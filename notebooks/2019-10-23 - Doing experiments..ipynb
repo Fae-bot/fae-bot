{
 "cells": [
  {
   "cell_type": "markdown",
   "metadata": {},
   "source": [
    "Ok, let's:\n",
    "- use this `Experiment` class for a few attempts\n",
    "- Try both MP and PP problems\n",
    "- gauge if there is any value in using notebooks for that\n",
    "- look into how I can try and run an inference model right now on the robot\n",
    "- document a few things\n",
    "- start the blog\n",
    "- make the blog immitate a bit the current fae blog?"
   ]
  },
  {
   "cell_type": "code",
   "execution_count": null,
   "metadata": {},
   "outputs": [],
   "source": [
    "def make_model(droupout=0.1, core_size=128, num_layers=)\n",
    "    dropout=0.1\n",
    "    core_size=128\n",
    "\n",
    "    model = Sequential()\n",
    "    model.add(Dense(core_size, activation='sigmoid', input_shape=(14,)))\n",
    "    model.add(Dropout(dropout))\n",
    "    model.add(Dense(core_size, activation='sigmoid'))\n",
    "    model.add(Dropout(dropout))\n",
    "    model.add(Dense(core_size, activation='sigmoid'))\n",
    "    model.add(Dropout(dropout))\n",
    "    model.add(Dense(core_size, activation='sigmoid'))\n",
    "    model.add(Dropout(dropout))\n",
    "    model.add(Dense(4, activation='linear'))"
   ]
  }
 ],
 "metadata": {
  "kernelspec": {
   "display_name": "Python 3",
   "language": "python",
   "name": "python3"
  },
  "language_info": {
   "codemirror_mode": {
    "name": "ipython",
    "version": 3
   },
   "file_extension": ".py",
   "mimetype": "text/x-python",
   "name": "python",
   "nbconvert_exporter": "python",
   "pygments_lexer": "ipython3",
   "version": "3.6.8"
  }
 },
 "nbformat": 4,
 "nbformat_minor": 2
}

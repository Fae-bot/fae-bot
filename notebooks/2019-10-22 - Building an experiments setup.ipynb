{
 "cells": [
  {
   "cell_type": "markdown",
   "metadata": {},
   "source": [
    "I want to be able to launch a bunch of experiments when I am away and plot their results. I think I need:\n",
    "- A callback class that stores metrics each epoch\n",
    "- A way to store models with all the parameters\n",
    "- A way to store the optimizer's params\n",
    "- A way to store the fitter parameters\n",
    "- A way to reproduce an experiment easily\n",
    "- Include time() in the metrics"
   ]
  },
  {
   "cell_type": "code",
   "execution_count": 1,
   "metadata": {
    "scrolled": true
   },
   "outputs": [],
   "source": [
    "import warnings\n",
    "warnings.filterwarnings('ignore')"
   ]
  },
  {
   "cell_type": "code",
   "execution_count": 2,
   "metadata": {
    "scrolled": true
   },
   "outputs": [
    {
     "name": "stderr",
     "output_type": "stream",
     "text": [
      "Using TensorFlow backend.\n"
     ]
    }
   ],
   "source": [
    "from fae import dataset_loader\n",
    "from fae.training_utils import NBatchLogger\n",
    "\n",
    "import numpy as np\n",
    "import tensorflow as tf\n",
    "\n",
    "import keras\n",
    "\n",
    "from keras.datasets import mnist\n",
    "from keras.models import Sequential\n",
    "from keras.layers import Dense, Dropout\n",
    "from keras.regularizers import l2\n",
    "from keras.optimizers import Adam, SGD\n",
    "from keras import backend as K"
   ]
  },
  {
   "cell_type": "code",
   "execution_count": 3,
   "metadata": {},
   "outputs": [],
   "source": [
    "from keras.callbacks import Callback\n",
    "import time\n",
    "\n",
    "class ExperimentLogger(Callback):\n",
    "    \"\"\"\n",
    "    A Logger that log average performance per `display` steps.\n",
    "    \"\"\"\n",
    "    def __init__(self):\n",
    "        self.exp_log = list()\n",
    "        self.start_ts = time.time()\n",
    "\n",
    "    def on_epoch_end(self, epoch, logs={}):\n",
    "        logs['timestamp'] = time.time()-self.start_ts\n",
    "        self.exp_log.append(logs)\n"
   ]
  },
  {
   "cell_type": "code",
   "execution_count": 4,
   "metadata": {
    "scrolled": false
   },
   "outputs": [
    {
     "name": "stderr",
     "output_type": "stream",
     "text": [
      "WARNING: Logging before flag parsing goes to stderr.\n",
      "W1023 00:10:12.158381 139623787867136 deprecation_wrapper.py:119] From /home/yves/.local/lib/python3.6/site-packages/keras/backend/tensorflow_backend.py:74: The name tf.get_default_graph is deprecated. Please use tf.compat.v1.get_default_graph instead.\n",
      "\n",
      "W1023 00:10:12.171562 139623787867136 deprecation_wrapper.py:119] From /home/yves/.local/lib/python3.6/site-packages/keras/backend/tensorflow_backend.py:517: The name tf.placeholder is deprecated. Please use tf.compat.v1.placeholder instead.\n",
      "\n",
      "W1023 00:10:12.174032 139623787867136 deprecation_wrapper.py:119] From /home/yves/.local/lib/python3.6/site-packages/keras/backend/tensorflow_backend.py:4138: The name tf.random_uniform is deprecated. Please use tf.random.uniform instead.\n",
      "\n",
      "W1023 00:10:12.193179 139623787867136 deprecation_wrapper.py:119] From /home/yves/.local/lib/python3.6/site-packages/keras/backend/tensorflow_backend.py:133: The name tf.placeholder_with_default is deprecated. Please use tf.compat.v1.placeholder_with_default instead.\n",
      "\n",
      "W1023 00:10:12.203156 139623787867136 deprecation.py:506] From /home/yves/.local/lib/python3.6/site-packages/keras/backend/tensorflow_backend.py:3445: calling dropout (from tensorflow.python.ops.nn_ops) with keep_prob is deprecated and will be removed in a future version.\n",
      "Instructions for updating:\n",
      "Please use `rate` instead of `keep_prob`. Rate should be set to `rate = 1 - keep_prob`.\n"
     ]
    },
    {
     "name": "stdout",
     "output_type": "stream",
     "text": [
      "_________________________________________________________________\n",
      "Layer (type)                 Output Shape              Param #   \n",
      "=================================================================\n",
      "dense_1 (Dense)              (None, 128)               1920      \n",
      "_________________________________________________________________\n",
      "dropout_1 (Dropout)          (None, 128)               0         \n",
      "_________________________________________________________________\n",
      "dense_2 (Dense)              (None, 128)               16512     \n",
      "_________________________________________________________________\n",
      "dropout_2 (Dropout)          (None, 128)               0         \n",
      "_________________________________________________________________\n",
      "dense_3 (Dense)              (None, 128)               16512     \n",
      "_________________________________________________________________\n",
      "dropout_3 (Dropout)          (None, 128)               0         \n",
      "_________________________________________________________________\n",
      "dense_4 (Dense)              (None, 128)               16512     \n",
      "_________________________________________________________________\n",
      "dropout_4 (Dropout)          (None, 128)               0         \n",
      "_________________________________________________________________\n",
      "dense_5 (Dense)              (None, 4)                 516       \n",
      "=================================================================\n",
      "Total params: 51,972\n",
      "Trainable params: 51,972\n",
      "Non-trainable params: 0\n",
      "_________________________________________________________________\n"
     ]
    }
   ],
   "source": [
    "dropout=0.1\n",
    "core_size=128\n",
    "\n",
    "model = Sequential()\n",
    "model.add(Dense(core_size, activation='sigmoid', input_shape=(14,)))\n",
    "model.add(Dropout(dropout))\n",
    "model.add(Dense(core_size, activation='sigmoid'))\n",
    "model.add(Dropout(dropout))\n",
    "model.add(Dense(core_size, activation='sigmoid'))\n",
    "model.add(Dropout(dropout))\n",
    "model.add(Dense(core_size, activation='sigmoid'))\n",
    "model.add(Dropout(dropout))\n",
    "model.add(Dense(4, activation='linear'))\n",
    "\n",
    "model.summary()"
   ]
  },
  {
   "cell_type": "code",
   "execution_count": null,
   "metadata": {
    "scrolled": true
   },
   "outputs": [],
   "source": []
  },
  {
   "cell_type": "code",
   "execution_count": 5,
   "metadata": {
    "scrolled": false
   },
   "outputs": [],
   "source": [
    "config = model.get_config()"
   ]
  },
  {
   "cell_type": "code",
   "execution_count": 6,
   "metadata": {
    "scrolled": true
   },
   "outputs": [
    {
     "name": "stdout",
     "output_type": "stream",
     "text": [
      "_________________________________________________________________\n",
      "Layer (type)                 Output Shape              Param #   \n",
      "=================================================================\n",
      "dense_1 (Dense)              (None, 128)               1920      \n",
      "_________________________________________________________________\n",
      "dropout_1 (Dropout)          (None, 128)               0         \n",
      "_________________________________________________________________\n",
      "dense_2 (Dense)              (None, 128)               16512     \n",
      "_________________________________________________________________\n",
      "dropout_2 (Dropout)          (None, 128)               0         \n",
      "_________________________________________________________________\n",
      "dense_3 (Dense)              (None, 128)               16512     \n",
      "_________________________________________________________________\n",
      "dropout_3 (Dropout)          (None, 128)               0         \n",
      "_________________________________________________________________\n",
      "dense_4 (Dense)              (None, 128)               16512     \n",
      "_________________________________________________________________\n",
      "dropout_4 (Dropout)          (None, 128)               0         \n",
      "_________________________________________________________________\n",
      "dense_5 (Dense)              (None, 4)                 516       \n",
      "=================================================================\n",
      "Total params: 51,972\n",
      "Trainable params: 51,972\n",
      "Non-trainable params: 0\n",
      "_________________________________________________________________\n"
     ]
    }
   ],
   "source": [
    "Sequential.from_config(config).summary()"
   ]
  },
  {
   "cell_type": "code",
   "execution_count": 7,
   "metadata": {},
   "outputs": [
    {
     "name": "stderr",
     "output_type": "stream",
     "text": [
      "W1023 00:10:12.469532 139623787867136 deprecation_wrapper.py:119] From /home/yves/.local/lib/python3.6/site-packages/keras/optimizers.py:790: The name tf.train.Optimizer is deprecated. Please use tf.compat.v1.train.Optimizer instead.\n",
      "\n"
     ]
    }
   ],
   "source": [
    "opt = Adam(lr=0.004, amsgrad=True)\n",
    "model.compile(loss='mean_squared_error',\n",
    "  optimizer=opt,\n",
    "  metrics=['accuracy'])\n"
   ]
  },
  {
   "cell_type": "code",
   "execution_count": 8,
   "metadata": {},
   "outputs": [
    {
     "name": "stderr",
     "output_type": "stream",
     "text": [
      "W1023 00:10:12.486529 139623787867136 deprecation_wrapper.py:119] From /home/yves/.local/lib/python3.6/site-packages/keras/backend/tensorflow_backend.py:174: The name tf.get_default_session is deprecated. Please use tf.compat.v1.get_default_session instead.\n",
      "\n"
     ]
    },
    {
     "data": {
      "text/plain": [
       "{'lr': 0.004000000189989805,\n",
       " 'beta_1': 0.8999999761581421,\n",
       " 'beta_2': 0.9990000128746033,\n",
       " 'decay': 0.0,\n",
       " 'epsilon': 1e-07,\n",
       " 'amsgrad': True}"
      ]
     },
     "execution_count": 8,
     "metadata": {},
     "output_type": "execute_result"
    }
   ],
   "source": [
    "opt.get_config()"
   ]
  },
  {
   "cell_type": "code",
   "execution_count": 9,
   "metadata": {},
   "outputs": [
    {
     "data": {
      "text/plain": [
       "<keras.optimizers.Adam at 0x7efca8231710>"
      ]
     },
     "execution_count": 9,
     "metadata": {},
     "output_type": "execute_result"
    }
   ],
   "source": [
    "Adam.from_config(opt.get_config())"
   ]
  },
  {
   "cell_type": "code",
   "execution_count": 22,
   "metadata": {},
   "outputs": [],
   "source": [
    "pp_input, pp_output, mp_input, mp_output = dataset_loader.load_dataset(\"../datasets/real/2019-10-18/raw/\")"
   ]
  },
  {
   "cell_type": "code",
   "execution_count": 23,
   "metadata": {},
   "outputs": [
    {
     "name": "stdout",
     "output_type": "stream",
     "text": [
      "Epoch: 10/50 ...  - loss: 0.0333 - acc: 0.3628 - val_loss: 0.0191 - val_acc: 0.5296\n",
      "Epoch: 20/50 ...  - loss: 0.0294 - acc: 0.4292 - val_loss: 0.0205 - val_acc: 0.5296\n",
      "Epoch: 30/50 ...  - loss: 0.0267 - acc: 0.3953 - val_loss: 0.0192 - val_acc: 0.5296\n",
      "Epoch: 40/50 ...  - loss: 0.0246 - acc: 0.4330 - val_loss: 0.0198 - val_acc: 0.5296\n"
     ]
    },
    {
     "data": {
      "text/plain": [
       "<keras.callbacks.History at 0x7efc421212b0>"
      ]
     },
     "execution_count": 23,
     "metadata": {},
     "output_type": "execute_result"
    }
   ],
   "source": [
    "el = ExperimentLogger()\n",
    "model.fit(x=mp_input, y=mp_output,\n",
    "    batch_size=10000,\n",
    "    epochs=50,\n",
    "    verbose=0,\n",
    "    shuffle=True,\n",
    "    validation_split=0.1,\n",
    "    callbacks=[NBatchLogger(display=10), el])"
   ]
  },
  {
   "cell_type": "code",
   "execution_count": 24,
   "metadata": {},
   "outputs": [
    {
     "data": {
      "text/plain": [
       "[(0,\n",
       "  {'val_loss': 0.022714687511324883,\n",
       "   'val_acc': 0.5296208262443542,\n",
       "   'loss': 0.03724024444818497,\n",
       "   'acc': 0.4200817048549652,\n",
       "   'timestamp': 0.05315208435058594}),\n",
       " (1,\n",
       "  {'val_loss': 0.02310163900256157,\n",
       "   'val_acc': 0.5296208262443542,\n",
       "   'loss': 0.03703784570097923,\n",
       "   'acc': 0.4261431097984314,\n",
       "   'timestamp': 0.09818053245544434}),\n",
       " (2,\n",
       "  {'val_loss': 0.022839054465293884,\n",
       "   'val_acc': 0.5296208262443542,\n",
       "   'loss': 0.03678693249821663,\n",
       "   'acc': 0.4283831715583801,\n",
       "   'timestamp': 0.14828133583068848}),\n",
       " (3,\n",
       "  {'val_loss': 0.02208639122545719,\n",
       "   'val_acc': 0.5296208262443542,\n",
       "   'loss': 0.03601698949933052,\n",
       "   'acc': 0.420872300863266,\n",
       "   'timestamp': 0.19316506385803223}),\n",
       " (4,\n",
       "  {'val_loss': 0.021031750366091728,\n",
       "   'val_acc': 0.5296208262443542,\n",
       "   'loss': 0.035706836730241776,\n",
       "   'acc': 0.4181051552295685,\n",
       "   'timestamp': 0.23741388320922852}),\n",
       " (5,\n",
       "  {'val_loss': 0.02008625492453575,\n",
       "   'val_acc': 0.5296208262443542,\n",
       "   'loss': 0.034055259078741074,\n",
       "   'acc': 0.42798787355422974,\n",
       "   'timestamp': 0.28195858001708984}),\n",
       " (6,\n",
       "  {'val_loss': 0.019342785701155663,\n",
       "   'val_acc': 0.5296208262443542,\n",
       "   'loss': 0.033927690237760544,\n",
       "   'acc': 0.4032151699066162,\n",
       "   'timestamp': 0.3242464065551758}),\n",
       " (7,\n",
       "  {'val_loss': 0.018932120874524117,\n",
       "   'val_acc': 0.5296208262443542,\n",
       "   'loss': 0.032951049506664276,\n",
       "   'acc': 0.3920147716999054,\n",
       "   'timestamp': 0.36666035652160645}),\n",
       " (8,\n",
       "  {'val_loss': 0.018856415525078773,\n",
       "   'val_acc': 0.5296208262443542,\n",
       "   'loss': 0.03302309662103653,\n",
       "   'acc': 0.3827908933162689,\n",
       "   'timestamp': 0.4185638427734375}),\n",
       " (9,\n",
       "  {'val_loss': 0.01896832510828972,\n",
       "   'val_acc': 0.5296208262443542,\n",
       "   'loss': 0.03333743289113045,\n",
       "   'acc': 0.3610488772392273,\n",
       "   'timestamp': 0.462169885635376}),\n",
       " (10,\n",
       "  {'val_loss': 0.019085567444562912,\n",
       "   'val_acc': 0.5296208262443542,\n",
       "   'loss': 0.03325050696730614,\n",
       "   'acc': 0.36276188492774963,\n",
       "   'timestamp': 0.5076651573181152}),\n",
       " (11,\n",
       "  {'val_loss': 0.019081033766269684,\n",
       "   'val_acc': 0.5296208262443542,\n",
       "   'loss': 0.032410457730293274,\n",
       "   'acc': 0.3663196861743927,\n",
       "   'timestamp': 0.5504570007324219}),\n",
       " (12,\n",
       "  {'val_loss': 0.0191515926271677,\n",
       "   'val_acc': 0.5296208262443542,\n",
       "   'loss': 0.032369907945394516,\n",
       "   'acc': 0.35446038842201233,\n",
       "   'timestamp': 0.5933349132537842}),\n",
       " (13,\n",
       "  {'val_loss': 0.019172202795743942,\n",
       "   'val_acc': 0.5296208262443542,\n",
       "   'loss': 0.03173767030239105,\n",
       "   'acc': 0.3572275638580322,\n",
       "   'timestamp': 0.6386728286743164}),\n",
       " (14,\n",
       "  {'val_loss': 0.019231289625167847,\n",
       "   'val_acc': 0.5296208262443542,\n",
       "   'loss': 0.031726472079753876,\n",
       "   'acc': 0.3640795946121216,\n",
       "   'timestamp': 0.6878182888031006}),\n",
       " (15,\n",
       "  {'val_loss': 0.019394662231206894,\n",
       "   'val_acc': 0.5296208262443542,\n",
       "   'loss': 0.031493593007326126,\n",
       "   'acc': 0.374752938747406,\n",
       "   'timestamp': 0.7314696311950684}),\n",
       " (16,\n",
       "  {'val_loss': 0.01971474103629589,\n",
       "   'val_acc': 0.5296208262443542,\n",
       "   'loss': 0.03045779839158058,\n",
       "   'acc': 0.38832521438598633,\n",
       "   'timestamp': 0.7782831192016602}),\n",
       " (17,\n",
       "  {'val_loss': 0.019998077303171158,\n",
       "   'val_acc': 0.5296208262443542,\n",
       "   'loss': 0.030170101672410965,\n",
       "   'acc': 0.4028198719024658,\n",
       "   'timestamp': 0.820267915725708}),\n",
       " (18,\n",
       "  {'val_loss': 0.020263195037841797,\n",
       "   'val_acc': 0.5296208262443542,\n",
       "   'loss': 0.03009549342095852,\n",
       "   'acc': 0.4121755063533783,\n",
       "   'timestamp': 0.8564853668212891}),\n",
       " (19,\n",
       "  {'val_loss': 0.020429052412509918,\n",
       "   'val_acc': 0.5296208262443542,\n",
       "   'loss': 0.029483849182724953,\n",
       "   'acc': 0.4227170944213867,\n",
       "   'timestamp': 0.8923218250274658}),\n",
       " (20,\n",
       "  {'val_loss': 0.020459938794374466,\n",
       "   'val_acc': 0.5296208262443542,\n",
       "   'loss': 0.029447801411151886,\n",
       "   'acc': 0.4291737973690033,\n",
       "   'timestamp': 0.9324181079864502}),\n",
       " (21,\n",
       "  {'val_loss': 0.02028089202940464,\n",
       "   'val_acc': 0.5296208262443542,\n",
       "   'loss': 0.02942676655948162,\n",
       "   'acc': 0.4229806363582611,\n",
       "   'timestamp': 0.96964430809021}),\n",
       " (22,\n",
       "  {'val_loss': 0.019992835819721222,\n",
       "   'val_acc': 0.5296208262443542,\n",
       "   'loss': 0.029204832389950752,\n",
       "   'acc': 0.42456185817718506,\n",
       "   'timestamp': 1.0055789947509766}),\n",
       " (23,\n",
       "  {'val_loss': 0.019714945927262306,\n",
       "   'val_acc': 0.5296208262443542,\n",
       "   'loss': 0.028933802619576454,\n",
       "   'acc': 0.4266701936721802,\n",
       "   'timestamp': 1.04343581199646}),\n",
       " (24,\n",
       "  {'val_loss': 0.019443154335021973,\n",
       "   'val_acc': 0.5296208262443542,\n",
       "   'loss': 0.028805939480662346,\n",
       "   'acc': 0.4237712621688843,\n",
       "   'timestamp': 1.0836009979248047}),\n",
       " (25,\n",
       "  {'val_loss': 0.0194245632737875,\n",
       "   'val_acc': 0.5296208262443542,\n",
       "   'loss': 0.027701079845428467,\n",
       "   'acc': 0.40993544459342957,\n",
       "   'timestamp': 1.1201515197753906}),\n",
       " (26,\n",
       "  {'val_loss': 0.019487489014863968,\n",
       "   'val_acc': 0.5296208262443542,\n",
       "   'loss': 0.02773936279118061,\n",
       "   'acc': 0.4117802083492279,\n",
       "   'timestamp': 1.164341926574707}),\n",
       " (27,\n",
       "  {'val_loss': 0.019563205540180206,\n",
       "   'val_acc': 0.5296208262443542,\n",
       "   'loss': 0.027042947709560394,\n",
       "   'acc': 0.4029516279697418,\n",
       "   'timestamp': 1.2037317752838135}),\n",
       " (28,\n",
       "  {'val_loss': 0.019518837332725525,\n",
       "   'val_acc': 0.5296208262443542,\n",
       "   'loss': 0.027732547372579575,\n",
       "   'acc': 0.40137040615081787,\n",
       "   'timestamp': 1.242633581161499}),\n",
       " (29,\n",
       "  {'val_loss': 0.019377216696739197,\n",
       "   'val_acc': 0.5296208262443542,\n",
       "   'loss': 0.02765590324997902,\n",
       "   'acc': 0.3870075047016144,\n",
       "   'timestamp': 1.2828030586242676}),\n",
       " (30,\n",
       "  {'val_loss': 0.019220279529690742,\n",
       "   'val_acc': 0.5296208262443542,\n",
       "   'loss': 0.02670869417488575,\n",
       "   'acc': 0.3953090012073517,\n",
       "   'timestamp': 1.3240821361541748}),\n",
       " (31,\n",
       "  {'val_loss': 0.019104916602373123,\n",
       "   'val_acc': 0.5296208262443542,\n",
       "   'loss': 0.026743631809949875,\n",
       "   'acc': 0.409013032913208,\n",
       "   'timestamp': 1.3611204624176025}),\n",
       " (32,\n",
       "  {'val_loss': 0.01915709301829338,\n",
       "   'val_acc': 0.5296208262443542,\n",
       "   'loss': 0.026505030691623688,\n",
       "   'acc': 0.4066411852836609,\n",
       "   'timestamp': 1.4008736610412598}),\n",
       " (33,\n",
       "  {'val_loss': 0.01932237669825554,\n",
       "   'val_acc': 0.5296208262443542,\n",
       "   'loss': 0.026262715458869934,\n",
       "   'acc': 0.4033469557762146,\n",
       "   'timestamp': 1.4373078346252441}),\n",
       " (34,\n",
       "  {'val_loss': 0.019608940929174423,\n",
       "   'val_acc': 0.5296208262443542,\n",
       "   'loss': 0.02588805742561817,\n",
       "   'acc': 0.42416656017303467,\n",
       "   'timestamp': 1.4757487773895264}),\n",
       " (35,\n",
       "  {'val_loss': 0.019910303875803947,\n",
       "   'val_acc': 0.5296208262443542,\n",
       "   'loss': 0.02580675669014454,\n",
       "   'acc': 0.42205825448036194,\n",
       "   'timestamp': 1.5140023231506348}),\n",
       " (36,\n",
       "  {'val_loss': 0.020117109641432762,\n",
       "   'val_acc': 0.5296208262443542,\n",
       "   'loss': 0.025628818199038506,\n",
       "   'acc': 0.4352352023124695,\n",
       "   'timestamp': 1.5606353282928467}),\n",
       " (37,\n",
       "  {'val_loss': 0.020124979317188263,\n",
       "   'val_acc': 0.5296208262443542,\n",
       "   'loss': 0.025332801043987274,\n",
       "   'acc': 0.4349716603755951,\n",
       "   'timestamp': 1.5997047424316406}),\n",
       " (38,\n",
       "  {'val_loss': 0.02004728652536869,\n",
       "   'val_acc': 0.5296208262443542,\n",
       "   'loss': 0.02539229393005371,\n",
       "   'acc': 0.43049150705337524,\n",
       "   'timestamp': 1.637019157409668}),\n",
       " (39,\n",
       "  {'val_loss': 0.01989883929491043,\n",
       "   'val_acc': 0.5296208262443542,\n",
       "   'loss': 0.025367919355630875,\n",
       "   'acc': 0.4339175224304199,\n",
       "   'timestamp': 1.6763241291046143}),\n",
       " (40,\n",
       "  {'val_loss': 0.01978537254035473,\n",
       "   'val_acc': 0.5296208262443542,\n",
       "   'loss': 0.024609535932540894,\n",
       "   'acc': 0.43299511075019836,\n",
       "   'timestamp': 1.7136883735656738}),\n",
       " (41,\n",
       "  {'val_loss': 0.019659873098134995,\n",
       "   'val_acc': 0.5296208262443542,\n",
       "   'loss': 0.02471246011555195,\n",
       "   'acc': 0.4322045147418976,\n",
       "   'timestamp': 1.7527062892913818}),\n",
       " (42,\n",
       "  {'val_loss': 0.019528672099113464,\n",
       "   'val_acc': 0.5296208262443542,\n",
       "   'loss': 0.024448895826935768,\n",
       "   'acc': 0.4295691251754761,\n",
       "   'timestamp': 1.7906417846679688}),\n",
       " (43,\n",
       "  {'val_loss': 0.019491029903292656,\n",
       "   'val_acc': 0.5296208262443542,\n",
       "   'loss': 0.024656185880303383,\n",
       "   'acc': 0.4345763623714447,\n",
       "   'timestamp': 1.82889986038208}),\n",
       " (44,\n",
       "  {'val_loss': 0.01947813853621483,\n",
       "   'val_acc': 0.5296208262443542,\n",
       "   'loss': 0.02401808276772499,\n",
       "   'acc': 0.4322045147418976,\n",
       "   'timestamp': 1.8655827045440674}),\n",
       " (45,\n",
       "  {'val_loss': 0.01951042003929615,\n",
       "   'val_acc': 0.5296208262443542,\n",
       "   'loss': 0.024127937853336334,\n",
       "   'acc': 0.4293055832386017,\n",
       "   'timestamp': 1.9022488594055176}),\n",
       " (46,\n",
       "  {'val_loss': 0.01952388323843479,\n",
       "   'val_acc': 0.5296208262443542,\n",
       "   'loss': 0.02361360564827919,\n",
       "   'acc': 0.4403742253780365,\n",
       "   'timestamp': 1.9483702182769775}),\n",
       " (47,\n",
       "  {'val_loss': 0.0194863211363554,\n",
       "   'val_acc': 0.5296208262443542,\n",
       "   'loss': 0.023448051884770393,\n",
       "   'acc': 0.43286335468292236,\n",
       "   'timestamp': 1.9896419048309326}),\n",
       " (48,\n",
       "  {'val_loss': 0.019420083612203598,\n",
       "   'val_acc': 0.5296208262443542,\n",
       "   'loss': 0.02352295257151127,\n",
       "   'acc': 0.4253524839878082,\n",
       "   'timestamp': 2.0300114154815674}),\n",
       " (49,\n",
       "  {'val_loss': 0.019412927329540253,\n",
       "   'val_acc': 0.5296208262443542,\n",
       "   'loss': 0.023738186806440353,\n",
       "   'acc': 0.4256160259246826,\n",
       "   'timestamp': 2.067303419113159})]"
      ]
     },
     "execution_count": 24,
     "metadata": {},
     "output_type": "execute_result"
    }
   ],
   "source": [
    "list(enumerate(el.exp_log))"
   ]
  },
  {
   "cell_type": "code",
   "execution_count": 25,
   "metadata": {},
   "outputs": [],
   "source": [
    "import pickle, zlib"
   ]
  },
  {
   "cell_type": "code",
   "execution_count": 26,
   "metadata": {},
   "outputs": [
    {
     "data": {
      "text/plain": [
       "8496"
      ]
     },
     "execution_count": 26,
     "metadata": {},
     "output_type": "execute_result"
    }
   ],
   "source": [
    "len(pickle.dumps(el.exp_log))"
   ]
  },
  {
   "cell_type": "code",
   "execution_count": 27,
   "metadata": {},
   "outputs": [
    {
     "data": {
      "text/plain": [
       "3134"
      ]
     },
     "execution_count": 27,
     "metadata": {},
     "output_type": "execute_result"
    }
   ],
   "source": [
    "len(zlib.compress(pickle.dumps(el.exp_log)))"
   ]
  },
  {
   "cell_type": "code",
   "execution_count": 28,
   "metadata": {},
   "outputs": [],
   "source": [
    "r = zlib.compress(pickle.dumps(el.exp_log))"
   ]
  },
  {
   "cell_type": "code",
   "execution_count": 29,
   "metadata": {},
   "outputs": [
    {
     "data": {
      "text/plain": [
       "7813"
      ]
     },
     "execution_count": 29,
     "metadata": {},
     "output_type": "execute_result"
    }
   ],
   "source": [
    "len(repr(pickle.loads(zlib.decompress(r))))"
   ]
  },
  {
   "cell_type": "markdown",
   "metadata": {},
   "source": [
    "Ok I think I found out what I wanted. Now to write a class `Experiment`.\n",
    "\n",
    "Done. Let's test it."
   ]
  },
  {
   "cell_type": "code",
   "execution_count": 30,
   "metadata": {},
   "outputs": [],
   "source": [
    "from fae.training_utils import Experiment, NBatchLogger\n",
    "from fae import dataset_loader"
   ]
  },
  {
   "cell_type": "code",
   "execution_count": 31,
   "metadata": {},
   "outputs": [],
   "source": [
    "import random\n",
    "import numpy as np\n",
    "import tensorflow as tf\n",
    "\n",
    "def reset_seed(seed_value=0):\n",
    "    random.seed(seed_value)\n",
    "    np.random.seed(seed_value)\n",
    "    tf.set_random_seed(seed_value)"
   ]
  },
  {
   "cell_type": "code",
   "execution_count": 32,
   "metadata": {},
   "outputs": [],
   "source": [
    "model.reset_states()\n",
    "reset_seed()\n",
    "e=Experiment(model=model, optimizer=opt, \n",
    "             fit_params = { 'batch_size':10000,\n",
    "                            'epochs':500,\n",
    "                            'verbose':0,\n",
    "                            'shuffle':True,\n",
    "                            'validation_split':0.1},\n",
    "            compile_params={'loss'    :'mean_squared_error',\n",
    "                            'metrics' :['mean_squared_error']},\n",
    "            data_loader = 'fae.dataset_loader.load_dataset(\"../datasets/real/2019-10-18/raw/\")[2:4]')\n"
   ]
  },
  {
   "cell_type": "code",
   "execution_count": 33,
   "metadata": {
    "scrolled": true
   },
   "outputs": [
    {
     "name": "stdout",
     "output_type": "stream",
     "text": [
      "Epoch: 10/500 ...  - loss: 0.1326 - mean_squared_error: 0.1326 - val_loss: 0.1585 - val_mean_squared_error: 0.1585\n",
      "Epoch: 20/500 ...  - loss: 0.0822 - mean_squared_error: 0.0822 - val_loss: 0.0456 - val_mean_squared_error: 0.0456\n",
      "Epoch: 30/500 ...  - loss: 0.0574 - mean_squared_error: 0.0574 - val_loss: 0.0422 - val_mean_squared_error: 0.0422\n",
      "Epoch: 40/500 ...  - loss: 0.0458 - mean_squared_error: 0.0458 - val_loss: 0.0198 - val_mean_squared_error: 0.0198\n",
      "Epoch: 50/500 ...  - loss: 0.0398 - mean_squared_error: 0.0398 - val_loss: 0.0249 - val_mean_squared_error: 0.0249\n",
      "Epoch: 60/500 ...  - loss: 0.0366 - mean_squared_error: 0.0366 - val_loss: 0.0186 - val_mean_squared_error: 0.0186\n",
      "Epoch: 70/500 ...  - loss: 0.0332 - mean_squared_error: 0.0332 - val_loss: 0.0206 - val_mean_squared_error: 0.0206\n",
      "Epoch: 80/500 ...  - loss: 0.0301 - mean_squared_error: 0.0301 - val_loss: 0.0190 - val_mean_squared_error: 0.0190\n",
      "Epoch: 90/500 ...  - loss: 0.0277 - mean_squared_error: 0.0277 - val_loss: 0.0199 - val_mean_squared_error: 0.0199\n",
      "Epoch: 100/500 ...  - loss: 0.0263 - mean_squared_error: 0.0263 - val_loss: 0.0195 - val_mean_squared_error: 0.0195\n",
      "Epoch: 110/500 ...  - loss: 0.0247 - mean_squared_error: 0.0247 - val_loss: 0.0198 - val_mean_squared_error: 0.0198\n",
      "Epoch: 120/500 ...  - loss: 0.0230 - mean_squared_error: 0.0230 - val_loss: 0.0198 - val_mean_squared_error: 0.0198\n",
      "Epoch: 130/500 ...  - loss: 0.0221 - mean_squared_error: 0.0221 - val_loss: 0.0196 - val_mean_squared_error: 0.0196\n",
      "Epoch: 140/500 ...  - loss: 0.0210 - mean_squared_error: 0.0210 - val_loss: 0.0198 - val_mean_squared_error: 0.0198\n",
      "Epoch: 150/500 ...  - loss: 0.0201 - mean_squared_error: 0.0201 - val_loss: 0.0199 - val_mean_squared_error: 0.0199\n",
      "Epoch: 160/500 ...  - loss: 0.0192 - mean_squared_error: 0.0192 - val_loss: 0.0198 - val_mean_squared_error: 0.0198\n",
      "Epoch: 170/500 ...  - loss: 0.0187 - mean_squared_error: 0.0187 - val_loss: 0.0199 - val_mean_squared_error: 0.0199\n",
      "Epoch: 180/500 ...  - loss: 0.0183 - mean_squared_error: 0.0183 - val_loss: 0.0200 - val_mean_squared_error: 0.0200\n",
      "Epoch: 190/500 ...  - loss: 0.0180 - mean_squared_error: 0.0180 - val_loss: 0.0199 - val_mean_squared_error: 0.0199\n",
      "Epoch: 200/500 ...  - loss: 0.0176 - mean_squared_error: 0.0176 - val_loss: 0.0199 - val_mean_squared_error: 0.0199\n",
      "Epoch: 210/500 ...  - loss: 0.0173 - mean_squared_error: 0.0173 - val_loss: 0.0199 - val_mean_squared_error: 0.0199\n",
      "Epoch: 220/500 ...  - loss: 0.0171 - mean_squared_error: 0.0171 - val_loss: 0.0201 - val_mean_squared_error: 0.0201\n",
      "Epoch: 230/500 ...  - loss: 0.0170 - mean_squared_error: 0.0170 - val_loss: 0.0200 - val_mean_squared_error: 0.0200\n",
      "Epoch: 240/500 ...  - loss: 0.0168 - mean_squared_error: 0.0168 - val_loss: 0.0200 - val_mean_squared_error: 0.0200\n",
      "Epoch: 250/500 ...  - loss: 0.0167 - mean_squared_error: 0.0167 - val_loss: 0.0201 - val_mean_squared_error: 0.0201\n",
      "Epoch: 260/500 ...  - loss: 0.0164 - mean_squared_error: 0.0164 - val_loss: 0.0201 - val_mean_squared_error: 0.0201\n",
      "Epoch: 270/500 ...  - loss: 0.0164 - mean_squared_error: 0.0164 - val_loss: 0.0200 - val_mean_squared_error: 0.0200\n",
      "Epoch: 280/500 ...  - loss: 0.0163 - mean_squared_error: 0.0163 - val_loss: 0.0200 - val_mean_squared_error: 0.0200\n",
      "Epoch: 290/500 ...  - loss: 0.0161 - mean_squared_error: 0.0161 - val_loss: 0.0201 - val_mean_squared_error: 0.0201\n",
      "Epoch: 300/500 ...  - loss: 0.0160 - mean_squared_error: 0.0160 - val_loss: 0.0201 - val_mean_squared_error: 0.0201\n",
      "Epoch: 310/500 ...  - loss: 0.0159 - mean_squared_error: 0.0159 - val_loss: 0.0201 - val_mean_squared_error: 0.0201\n",
      "Epoch: 320/500 ...  - loss: 0.0158 - mean_squared_error: 0.0158 - val_loss: 0.0202 - val_mean_squared_error: 0.0202\n",
      "Epoch: 330/500 ...  - loss: 0.0158 - mean_squared_error: 0.0158 - val_loss: 0.0201 - val_mean_squared_error: 0.0201\n",
      "Epoch: 340/500 ...  - loss: 0.0158 - mean_squared_error: 0.0158 - val_loss: 0.0200 - val_mean_squared_error: 0.0200\n",
      "Epoch: 350/500 ...  - loss: 0.0156 - mean_squared_error: 0.0156 - val_loss: 0.0200 - val_mean_squared_error: 0.0200\n",
      "Epoch: 360/500 ...  - loss: 0.0155 - mean_squared_error: 0.0155 - val_loss: 0.0201 - val_mean_squared_error: 0.0201\n",
      "Epoch: 370/500 ...  - loss: 0.0155 - mean_squared_error: 0.0155 - val_loss: 0.0202 - val_mean_squared_error: 0.0202\n",
      "Epoch: 380/500 ...  - loss: 0.0156 - mean_squared_error: 0.0156 - val_loss: 0.0202 - val_mean_squared_error: 0.0202\n",
      "Epoch: 390/500 ...  - loss: 0.0154 - mean_squared_error: 0.0154 - val_loss: 0.0202 - val_mean_squared_error: 0.0202\n",
      "Epoch: 400/500 ...  - loss: 0.0157 - mean_squared_error: 0.0157 - val_loss: 0.0201 - val_mean_squared_error: 0.0201\n",
      "Epoch: 410/500 ...  - loss: 0.0155 - mean_squared_error: 0.0155 - val_loss: 0.0201 - val_mean_squared_error: 0.0201\n",
      "Epoch: 420/500 ...  - loss: 0.0154 - mean_squared_error: 0.0154 - val_loss: 0.0202 - val_mean_squared_error: 0.0202\n",
      "Epoch: 430/500 ...  - loss: 0.0154 - mean_squared_error: 0.0154 - val_loss: 0.0202 - val_mean_squared_error: 0.0202\n",
      "Epoch: 440/500 ...  - loss: 0.0153 - mean_squared_error: 0.0153 - val_loss: 0.0201 - val_mean_squared_error: 0.0201\n",
      "Epoch: 450/500 ...  - loss: 0.0152 - mean_squared_error: 0.0152 - val_loss: 0.0201 - val_mean_squared_error: 0.0201\n",
      "Epoch: 460/500 ...  - loss: 0.0153 - mean_squared_error: 0.0153 - val_loss: 0.0201 - val_mean_squared_error: 0.0201\n",
      "Epoch: 470/500 ...  - loss: 0.0152 - mean_squared_error: 0.0152 - val_loss: 0.0202 - val_mean_squared_error: 0.0202\n",
      "Epoch: 480/500 ...  - loss: 0.0152 - mean_squared_error: 0.0152 - val_loss: 0.0200 - val_mean_squared_error: 0.0200\n",
      "Epoch: 490/500 ...  - loss: 0.0151 - mean_squared_error: 0.0151 - val_loss: 0.0200 - val_mean_squared_error: 0.0200\n"
     ]
    }
   ],
   "source": [
    "reset_seed()\n",
    "e.run(display=10)"
   ]
  },
  {
   "cell_type": "code",
   "execution_count": 34,
   "metadata": {},
   "outputs": [
    {
     "data": {
      "text/plain": [
       "'./experiments//exp_20191023_00-10-49.pickle'"
      ]
     },
     "execution_count": 34,
     "metadata": {},
     "output_type": "execute_result"
    }
   ],
   "source": [
    "e.save_name"
   ]
  },
  {
   "cell_type": "code",
   "execution_count": 35,
   "metadata": {
    "scrolled": true
   },
   "outputs": [
    {
     "name": "stdout",
     "output_type": "stream",
     "text": [
      "Epoch: 10/500 ...  - loss: 0.1562 - mean_squared_error: 0.1562 - val_loss: 0.1261 - val_mean_squared_error: 0.1261\n",
      "Epoch: 20/500 ...  - loss: 0.0775 - mean_squared_error: 0.0775 - val_loss: 0.0259 - val_mean_squared_error: 0.0259\n",
      "Epoch: 30/500 ...  - loss: 0.0515 - mean_squared_error: 0.0515 - val_loss: 0.0268 - val_mean_squared_error: 0.0268\n",
      "Epoch: 40/500 ...  - loss: 0.0401 - mean_squared_error: 0.0401 - val_loss: 0.0185 - val_mean_squared_error: 0.0185\n",
      "Epoch: 50/500 ...  - loss: 0.0343 - mean_squared_error: 0.0343 - val_loss: 0.0194 - val_mean_squared_error: 0.0194\n",
      "Epoch: 60/500 ...  - loss: 0.0299 - mean_squared_error: 0.0299 - val_loss: 0.0207 - val_mean_squared_error: 0.0207\n",
      "Epoch: 70/500 ...  - loss: 0.0271 - mean_squared_error: 0.0271 - val_loss: 0.0190 - val_mean_squared_error: 0.0190\n",
      "Epoch: 80/500 ...  - loss: 0.0250 - mean_squared_error: 0.0250 - val_loss: 0.0202 - val_mean_squared_error: 0.0202\n",
      "Epoch: 90/500 ...  - loss: 0.0226 - mean_squared_error: 0.0226 - val_loss: 0.0196 - val_mean_squared_error: 0.0196\n",
      "Epoch: 100/500 ...  - loss: 0.0214 - mean_squared_error: 0.0214 - val_loss: 0.0197 - val_mean_squared_error: 0.0197\n",
      "Epoch: 110/500 ...  - loss: 0.0203 - mean_squared_error: 0.0203 - val_loss: 0.0200 - val_mean_squared_error: 0.0200\n",
      "Epoch: 120/500 ...  - loss: 0.0195 - mean_squared_error: 0.0195 - val_loss: 0.0199 - val_mean_squared_error: 0.0199\n",
      "Epoch: 130/500 ...  - loss: 0.0186 - mean_squared_error: 0.0186 - val_loss: 0.0200 - val_mean_squared_error: 0.0200\n",
      "Epoch: 140/500 ...  - loss: 0.0181 - mean_squared_error: 0.0181 - val_loss: 0.0201 - val_mean_squared_error: 0.0201\n",
      "Epoch: 150/500 ...  - loss: 0.0177 - mean_squared_error: 0.0177 - val_loss: 0.0200 - val_mean_squared_error: 0.0200\n",
      "Epoch: 160/500 ...  - loss: 0.0173 - mean_squared_error: 0.0173 - val_loss: 0.0201 - val_mean_squared_error: 0.0201\n",
      "Epoch: 170/500 ...  - loss: 0.0173 - mean_squared_error: 0.0173 - val_loss: 0.0201 - val_mean_squared_error: 0.0201\n",
      "Epoch: 180/500 ...  - loss: 0.0170 - mean_squared_error: 0.0170 - val_loss: 0.0202 - val_mean_squared_error: 0.0202\n",
      "Epoch: 190/500 ...  - loss: 0.0166 - mean_squared_error: 0.0166 - val_loss: 0.0201 - val_mean_squared_error: 0.0201\n",
      "Epoch: 200/500 ...  - loss: 0.0163 - mean_squared_error: 0.0163 - val_loss: 0.0201 - val_mean_squared_error: 0.0201\n",
      "Epoch: 210/500 ...  - loss: 0.0164 - mean_squared_error: 0.0164 - val_loss: 0.0200 - val_mean_squared_error: 0.0200\n",
      "Epoch: 220/500 ...  - loss: 0.0163 - mean_squared_error: 0.0163 - val_loss: 0.0202 - val_mean_squared_error: 0.0202\n",
      "Epoch: 230/500 ...  - loss: 0.0161 - mean_squared_error: 0.0161 - val_loss: 0.0202 - val_mean_squared_error: 0.0202\n",
      "Epoch: 240/500 ...  - loss: 0.0158 - mean_squared_error: 0.0158 - val_loss: 0.0202 - val_mean_squared_error: 0.0202\n",
      "Epoch: 250/500 ...  - loss: 0.0159 - mean_squared_error: 0.0159 - val_loss: 0.0202 - val_mean_squared_error: 0.0202\n",
      "Epoch: 260/500 ...  - loss: 0.0157 - mean_squared_error: 0.0157 - val_loss: 0.0201 - val_mean_squared_error: 0.0201\n",
      "Epoch: 270/500 ...  - loss: 0.0158 - mean_squared_error: 0.0158 - val_loss: 0.0201 - val_mean_squared_error: 0.0201\n",
      "Epoch: 280/500 ...  - loss: 0.0157 - mean_squared_error: 0.0157 - val_loss: 0.0201 - val_mean_squared_error: 0.0201\n",
      "Epoch: 290/500 ...  - loss: 0.0155 - mean_squared_error: 0.0155 - val_loss: 0.0202 - val_mean_squared_error: 0.0202\n",
      "Epoch: 300/500 ...  - loss: 0.0155 - mean_squared_error: 0.0155 - val_loss: 0.0202 - val_mean_squared_error: 0.0202\n",
      "Epoch: 310/500 ...  - loss: 0.0154 - mean_squared_error: 0.0154 - val_loss: 0.0202 - val_mean_squared_error: 0.0202\n",
      "Epoch: 320/500 ...  - loss: 0.0153 - mean_squared_error: 0.0153 - val_loss: 0.0202 - val_mean_squared_error: 0.0202\n",
      "Epoch: 330/500 ...  - loss: 0.0152 - mean_squared_error: 0.0152 - val_loss: 0.0201 - val_mean_squared_error: 0.0201\n",
      "Epoch: 340/500 ...  - loss: 0.0153 - mean_squared_error: 0.0153 - val_loss: 0.0201 - val_mean_squared_error: 0.0201\n",
      "Epoch: 350/500 ...  - loss: 0.0153 - mean_squared_error: 0.0153 - val_loss: 0.0201 - val_mean_squared_error: 0.0201\n",
      "Epoch: 360/500 ...  - loss: 0.0153 - mean_squared_error: 0.0153 - val_loss: 0.0202 - val_mean_squared_error: 0.0202\n",
      "Epoch: 370/500 ...  - loss: 0.0152 - mean_squared_error: 0.0152 - val_loss: 0.0201 - val_mean_squared_error: 0.0201\n",
      "Epoch: 380/500 ...  - loss: 0.0151 - mean_squared_error: 0.0151 - val_loss: 0.0201 - val_mean_squared_error: 0.0201\n",
      "Epoch: 390/500 ...  - loss: 0.0151 - mean_squared_error: 0.0151 - val_loss: 0.0201 - val_mean_squared_error: 0.0201\n",
      "Epoch: 400/500 ...  - loss: 0.0151 - mean_squared_error: 0.0151 - val_loss: 0.0201 - val_mean_squared_error: 0.0201\n",
      "Epoch: 410/500 ...  - loss: 0.0149 - mean_squared_error: 0.0149 - val_loss: 0.0201 - val_mean_squared_error: 0.0201\n",
      "Epoch: 420/500 ...  - loss: 0.0149 - mean_squared_error: 0.0149 - val_loss: 0.0201 - val_mean_squared_error: 0.0201\n",
      "Epoch: 430/500 ...  - loss: 0.0149 - mean_squared_error: 0.0149 - val_loss: 0.0201 - val_mean_squared_error: 0.0201\n",
      "Epoch: 440/500 ...  - loss: 0.0151 - mean_squared_error: 0.0151 - val_loss: 0.0202 - val_mean_squared_error: 0.0202\n",
      "Epoch: 450/500 ...  - loss: 0.0149 - mean_squared_error: 0.0149 - val_loss: 0.0201 - val_mean_squared_error: 0.0201\n",
      "Epoch: 460/500 ...  - loss: 0.0150 - mean_squared_error: 0.0150 - val_loss: 0.0200 - val_mean_squared_error: 0.0200\n",
      "Epoch: 470/500 ...  - loss: 0.0148 - mean_squared_error: 0.0148 - val_loss: 0.0200 - val_mean_squared_error: 0.0200\n",
      "Epoch: 480/500 ...  - loss: 0.0149 - mean_squared_error: 0.0149 - val_loss: 0.0201 - val_mean_squared_error: 0.0201\n",
      "Epoch: 490/500 ...  - loss: 0.0147 - mean_squared_error: 0.0147 - val_loss: 0.0201 - val_mean_squared_error: 0.0201\n"
     ]
    }
   ],
   "source": [
    "reset_seed()\n",
    "e2=Experiment.from_file(e.save_name)\n",
    "reset_seed()\n",
    "e2.run(display=10)"
   ]
  },
  {
   "cell_type": "code",
   "execution_count": 36,
   "metadata": {
    "scrolled": true
   },
   "outputs": [
    {
     "name": "stdout",
     "output_type": "stream",
     "text": [
      "Epoch: 10/500 ...  - loss: 0.1419 - mean_squared_error: 0.1419 - val_loss: 0.0944 - val_mean_squared_error: 0.0944\n",
      "Epoch: 20/500 ...  - loss: 0.0636 - mean_squared_error: 0.0636 - val_loss: 0.0181 - val_mean_squared_error: 0.0181\n",
      "Epoch: 30/500 ...  - loss: 0.0457 - mean_squared_error: 0.0457 - val_loss: 0.0190 - val_mean_squared_error: 0.0190\n",
      "Epoch: 40/500 ...  - loss: 0.0390 - mean_squared_error: 0.0390 - val_loss: 0.0216 - val_mean_squared_error: 0.0216\n",
      "Epoch: 50/500 ...  - loss: 0.0344 - mean_squared_error: 0.0344 - val_loss: 0.0180 - val_mean_squared_error: 0.0180\n",
      "Epoch: 60/500 ...  - loss: 0.0298 - mean_squared_error: 0.0298 - val_loss: 0.0212 - val_mean_squared_error: 0.0212\n",
      "Epoch: 70/500 ...  - loss: 0.0265 - mean_squared_error: 0.0265 - val_loss: 0.0194 - val_mean_squared_error: 0.0194\n",
      "Epoch: 80/500 ...  - loss: 0.0244 - mean_squared_error: 0.0244 - val_loss: 0.0194 - val_mean_squared_error: 0.0194\n",
      "Epoch: 90/500 ...  - loss: 0.0220 - mean_squared_error: 0.0220 - val_loss: 0.0200 - val_mean_squared_error: 0.0200\n",
      "Epoch: 100/500 ...  - loss: 0.0209 - mean_squared_error: 0.0209 - val_loss: 0.0197 - val_mean_squared_error: 0.0197\n",
      "Epoch: 110/500 ...  - loss: 0.0198 - mean_squared_error: 0.0198 - val_loss: 0.0200 - val_mean_squared_error: 0.0200\n",
      "Epoch: 120/500 ...  - loss: 0.0191 - mean_squared_error: 0.0191 - val_loss: 0.0200 - val_mean_squared_error: 0.0200\n",
      "Epoch: 130/500 ...  - loss: 0.0183 - mean_squared_error: 0.0183 - val_loss: 0.0200 - val_mean_squared_error: 0.0200\n",
      "Epoch: 140/500 ...  - loss: 0.0179 - mean_squared_error: 0.0179 - val_loss: 0.0201 - val_mean_squared_error: 0.0201\n",
      "Epoch: 150/500 ...  - loss: 0.0175 - mean_squared_error: 0.0175 - val_loss: 0.0201 - val_mean_squared_error: 0.0201\n",
      "Epoch: 160/500 ...  - loss: 0.0172 - mean_squared_error: 0.0172 - val_loss: 0.0201 - val_mean_squared_error: 0.0201\n",
      "Epoch: 170/500 ...  - loss: 0.0171 - mean_squared_error: 0.0171 - val_loss: 0.0202 - val_mean_squared_error: 0.0202\n",
      "Epoch: 180/500 ...  - loss: 0.0169 - mean_squared_error: 0.0169 - val_loss: 0.0202 - val_mean_squared_error: 0.0202\n",
      "Epoch: 190/500 ...  - loss: 0.0165 - mean_squared_error: 0.0165 - val_loss: 0.0202 - val_mean_squared_error: 0.0202\n",
      "Epoch: 200/500 ...  - loss: 0.0162 - mean_squared_error: 0.0162 - val_loss: 0.0202 - val_mean_squared_error: 0.0202\n",
      "Epoch: 210/500 ...  - loss: 0.0163 - mean_squared_error: 0.0163 - val_loss: 0.0200 - val_mean_squared_error: 0.0200\n",
      "Epoch: 220/500 ...  - loss: 0.0162 - mean_squared_error: 0.0162 - val_loss: 0.0202 - val_mean_squared_error: 0.0202\n",
      "Epoch: 230/500 ...  - loss: 0.0161 - mean_squared_error: 0.0161 - val_loss: 0.0203 - val_mean_squared_error: 0.0203\n",
      "Epoch: 240/500 ...  - loss: 0.0158 - mean_squared_error: 0.0158 - val_loss: 0.0202 - val_mean_squared_error: 0.0202\n",
      "Epoch: 250/500 ...  - loss: 0.0159 - mean_squared_error: 0.0159 - val_loss: 0.0202 - val_mean_squared_error: 0.0202\n",
      "Epoch: 260/500 ...  - loss: 0.0157 - mean_squared_error: 0.0157 - val_loss: 0.0202 - val_mean_squared_error: 0.0202\n",
      "Epoch: 270/500 ...  - loss: 0.0158 - mean_squared_error: 0.0158 - val_loss: 0.0201 - val_mean_squared_error: 0.0201\n",
      "Epoch: 280/500 ...  - loss: 0.0157 - mean_squared_error: 0.0157 - val_loss: 0.0202 - val_mean_squared_error: 0.0202\n",
      "Epoch: 290/500 ...  - loss: 0.0155 - mean_squared_error: 0.0155 - val_loss: 0.0202 - val_mean_squared_error: 0.0202\n",
      "Epoch: 300/500 ...  - loss: 0.0155 - mean_squared_error: 0.0155 - val_loss: 0.0203 - val_mean_squared_error: 0.0203\n",
      "Epoch: 310/500 ...  - loss: 0.0154 - mean_squared_error: 0.0154 - val_loss: 0.0203 - val_mean_squared_error: 0.0203\n",
      "Epoch: 320/500 ...  - loss: 0.0153 - mean_squared_error: 0.0153 - val_loss: 0.0202 - val_mean_squared_error: 0.0202\n",
      "Epoch: 330/500 ...  - loss: 0.0153 - mean_squared_error: 0.0153 - val_loss: 0.0202 - val_mean_squared_error: 0.0202\n",
      "Epoch: 340/500 ...  - loss: 0.0153 - mean_squared_error: 0.0153 - val_loss: 0.0201 - val_mean_squared_error: 0.0201\n",
      "Epoch: 350/500 ...  - loss: 0.0154 - mean_squared_error: 0.0154 - val_loss: 0.0201 - val_mean_squared_error: 0.0201\n",
      "Epoch: 360/500 ...  - loss: 0.0153 - mean_squared_error: 0.0153 - val_loss: 0.0203 - val_mean_squared_error: 0.0203\n",
      "Epoch: 370/500 ...  - loss: 0.0152 - mean_squared_error: 0.0152 - val_loss: 0.0202 - val_mean_squared_error: 0.0202\n",
      "Epoch: 380/500 ...  - loss: 0.0152 - mean_squared_error: 0.0152 - val_loss: 0.0202 - val_mean_squared_error: 0.0202\n",
      "Epoch: 390/500 ...  - loss: 0.0151 - mean_squared_error: 0.0151 - val_loss: 0.0201 - val_mean_squared_error: 0.0201\n",
      "Epoch: 400/500 ...  - loss: 0.0151 - mean_squared_error: 0.0151 - val_loss: 0.0201 - val_mean_squared_error: 0.0201\n",
      "Epoch: 410/500 ...  - loss: 0.0149 - mean_squared_error: 0.0149 - val_loss: 0.0202 - val_mean_squared_error: 0.0202\n",
      "Epoch: 420/500 ...  - loss: 0.0149 - mean_squared_error: 0.0149 - val_loss: 0.0202 - val_mean_squared_error: 0.0202\n",
      "Epoch: 430/500 ...  - loss: 0.0149 - mean_squared_error: 0.0149 - val_loss: 0.0202 - val_mean_squared_error: 0.0202\n",
      "Epoch: 440/500 ...  - loss: 0.0151 - mean_squared_error: 0.0151 - val_loss: 0.0203 - val_mean_squared_error: 0.0203\n",
      "Epoch: 450/500 ...  - loss: 0.0150 - mean_squared_error: 0.0150 - val_loss: 0.0202 - val_mean_squared_error: 0.0202\n",
      "Epoch: 460/500 ...  - loss: 0.0150 - mean_squared_error: 0.0150 - val_loss: 0.0201 - val_mean_squared_error: 0.0201\n",
      "Epoch: 470/500 ...  - loss: 0.0149 - mean_squared_error: 0.0149 - val_loss: 0.0200 - val_mean_squared_error: 0.0200\n",
      "Epoch: 480/500 ...  - loss: 0.0149 - mean_squared_error: 0.0149 - val_loss: 0.0201 - val_mean_squared_error: 0.0201\n",
      "Epoch: 490/500 ...  - loss: 0.0148 - mean_squared_error: 0.0148 - val_loss: 0.0201 - val_mean_squared_error: 0.0201\n"
     ]
    }
   ],
   "source": [
    "reset_seed()\n",
    "e3=Experiment.from_file(e.save_name)\n",
    "reset_seed()\n",
    "e3.run(display=10)"
   ]
  },
  {
   "cell_type": "code",
   "execution_count": null,
   "metadata": {},
   "outputs": [],
   "source": [
    "e.el.exp_log[-2:]"
   ]
  },
  {
   "cell_type": "code",
   "execution_count": null,
   "metadata": {},
   "outputs": [],
   "source": []
  }
 ],
 "metadata": {
  "kernelspec": {
   "display_name": "Python 3",
   "language": "python",
   "name": "python3"
  },
  "language_info": {
   "codemirror_mode": {
    "name": "ipython",
    "version": 3
   },
   "file_extension": ".py",
   "mimetype": "text/x-python",
   "name": "python",
   "nbconvert_exporter": "python",
   "pygments_lexer": "ipython3",
   "version": "3.6.8"
  }
 },
 "nbformat": 4,
 "nbformat_minor": 2
}
